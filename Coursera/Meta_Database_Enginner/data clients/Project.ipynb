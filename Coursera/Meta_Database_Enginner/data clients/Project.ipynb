{
 "cells": [
  {
   "cell_type": "code",
   "execution_count": 2,
   "id": "offensive-interpretation",
   "metadata": {},
   "outputs": [],
   "source": [
    "import mysql.connector as connector"
   ]
  },
  {
   "cell_type": "code",
   "execution_count": 3,
   "id": "eefc2282-9509-487e-b876-8b241b6fce97",
   "metadata": {},
   "outputs": [],
   "source": [
    "try:\n",
    "    conn = connector.connect(user='root', password='')\n",
    "except Error as er:\n",
    "    print(er.msg)"
   ]
  },
  {
   "cell_type": "code",
   "execution_count": 4,
   "id": "c1ddb59e-c308-4b2e-8de6-23670074f8ae",
   "metadata": {},
   "outputs": [],
   "source": [
    "cursor = conn.cursor()"
   ]
  },
  {
   "cell_type": "code",
   "execution_count": 4,
   "id": "19c437f5-401f-488a-96c7-1f921dea4b15",
   "metadata": {},
   "outputs": [],
   "source": [
    "cursor.execute(\"CREATE DATABASE little_lemon_db\")"
   ]
  },
  {
   "cell_type": "code",
   "execution_count": 5,
   "id": "986eb305-e77a-4535-9225-2ff4b0ece314",
   "metadata": {},
   "outputs": [],
   "source": [
    "cursor.execute(\"USE little_lemon_db\")"
   ]
  },
  {
   "cell_type": "code",
   "execution_count": 6,
   "id": "b0ab964a-1062-41c1-8a02-7fd77217536e",
   "metadata": {},
   "outputs": [],
   "source": [
    "create_menuitem_table = \"\"\"CREATE TABLE MenuItems (\n",
    "ItemID INT AUTO_INCREMENT,\n",
    "Name VARCHAR(200),\n",
    "Type VARCHAR(100),\n",
    "Price INT,\n",
    "PRIMARY KEY (ItemID)\n",
    ");\"\"\""
   ]
  },
  {
   "cell_type": "code",
   "execution_count": 7,
   "id": "50ea7b5e-a88f-44b5-8874-6d6112b52ae9",
   "metadata": {},
   "outputs": [],
   "source": [
    "create_menu_table = \"\"\"CREATE TABLE Menus (\n",
    "MenuID INT,\n",
    "ItemID INT,\n",
    "Cuisine VARCHAR(100),\n",
    "PRIMARY KEY (MenuID,ItemID)\n",
    ");\"\"\""
   ]
  },
  {
   "cell_type": "code",
   "execution_count": 16,
   "id": "9bd08879-d889-466e-82ac-30eb7e3b851c",
   "metadata": {},
   "outputs": [],
   "source": [
    "create_booking_table = \"\"\"CREATE TABLE Bookings (\n",
    "BookingID INT AUTO_INCREMENT,\n",
    "TableNo INT,\n",
    "GuestFirstName VARCHAR(100) NOT NULL,\n",
    "GuestLastName VARCHAR(100) NOT NULL,\n",
    "BookingSlot TIME NOT NULL,\n",
    "EmployeeID INT,\n",
    "PRIMARY KEY (BookingID)\n",
    ");\"\"\""
   ]
  },
  {
   "cell_type": "code",
   "execution_count": 9,
   "id": "a55c4437-91b5-40bc-bec4-1517bbf7f84c",
   "metadata": {},
   "outputs": [],
   "source": [
    "create_orders_table = \"\"\"CREATE TABLE Orders (\n",
    "OrderID INT,\n",
    "TableNo INT,\n",
    "MenuID INT,\n",
    "BookingID INT,\n",
    "BillAmount INT,\n",
    "Quantity INT,\n",
    "PRIMARY KEY (OrderID,TableNo)\n",
    ");\"\"\""
   ]
  },
  {
   "cell_type": "code",
   "execution_count": 25,
   "id": "f067287c-18bf-4c13-bf76-e275ba4d0cce",
   "metadata": {},
   "outputs": [],
   "source": [
    "create_employees_table = \"\"\"CREATE TABLE Employees (\n",
    "EmployeeID INT AUTO_INCREMENT PRIMARY KEY,\n",
    "Name VARCHAR(100),\n",
    "Role VARCHAR(100),\n",
    "Address VARCHAR(200),\n",
    "Contact_Number INT,\n",
    "Email VARCHAR(100),\n",
    "Annual_Salary VARCHAR(100)\n",
    ");\"\"\""
   ]
  },
  {
   "cell_type": "code",
   "execution_count": 26,
   "id": "92e196d6-6d17-4cbc-b286-bb916328fc8e",
   "metadata": {},
   "outputs": [],
   "source": [
    "# Create MenuItems table\n",
    "cursor.execute(create_menuitem_table)\n",
    "\n",
    "# Create Menu table\n",
    "cursor.execute(create_menu_table)\n",
    "\n",
    "# Create Bookings table\n",
    "cursor.execute(create_booking_table)\n",
    "\n",
    "# Create Orders table\n",
    "cursor.execute(create_orders_table)\n",
    "\n",
    "# Create Employees table\n",
    "cursor.execute(create_employees_table)"
   ]
  },
  {
   "cell_type": "code",
   "execution_count": 38,
   "id": "8fea7259-2c37-4225-9add-7e0261acc520",
   "metadata": {},
   "outputs": [],
   "source": [
    "#*******************************************************#\n",
    "# Insert query to populate \"MenuItems\" table:\n",
    "#*******************************************************#\n",
    "insert_menuitems=\"\"\"\n",
    "INSERT INTO MenuItems (ItemID, Name, Type, Price)\n",
    "VALUES\n",
    "(1, 'Olives','Starters',5),\n",
    "(2, 'Flatbread','Starters', 5),\n",
    "(3, 'Minestrone', 'Starters', 8),\n",
    "(4, 'Tomato bread','Starters', 8),\n",
    "(5, 'Falafel', 'Starters', 7),\n",
    "(6, 'Hummus', 'Starters', 5),\n",
    "(7, 'Greek salad', 'Main Courses', 15),\n",
    "(8, 'Bean soup', 'Main Courses', 12),\n",
    "(9, 'Pizza', 'Main Courses', 15),\n",
    "(10, 'Greek yoghurt','Desserts', 7),\n",
    "(11, 'Ice cream', 'Desserts', 6),\n",
    "(12, 'Cheesecake', 'Desserts', 4),\n",
    "(13, 'Athens White wine', 'Drinks', 25),\n",
    "(14, 'Corfu Red Wine', 'Drinks', 30),\n",
    "(15, 'Turkish Coffee', 'Drinks', 10),\n",
    "(16, 'Turkish Coffee', 'Drinks', 10),\n",
    "(17, 'Kabasa', 'Main Courses', 17);\"\"\"\n",
    "\n",
    "#*******************************************************#\n",
    "# Insert query to populate \"Menu\" table:\n",
    "#*******************************************************#\n",
    "insert_menu=\"\"\"\n",
    "INSERT INTO Menus (MenuID,ItemID,Cuisine)\n",
    "VALUES\n",
    "(1, 1, 'Greek'),\n",
    "(1, 7, 'Greek'),\n",
    "(1, 10, 'Greek'),\n",
    "(1, 13, 'Greek'),\n",
    "(2, 3, 'Italian'),\n",
    "(2, 9, 'Italian'),\n",
    "(2, 12, 'Italian'),\n",
    "(2, 15, 'Italian'),\n",
    "(3, 5, 'Turkish'),\n",
    "(3, 17, 'Turkish'),\n",
    "(3, 11, 'Turkish'),\n",
    "(3, 16, 'Turkish');\"\"\"\n",
    "\n",
    "#*******************************************************#\n",
    "# Insert query to populate \"Bookings\" table:\n",
    "#*******************************************************#\n",
    "insert_bookings=\"\"\"\n",
    "INSERT INTO Bookings (BookingID, TableNo, GuestFirstName, \n",
    "GuestLastName, BookingSlot, EmployeeID)\n",
    "VALUES\n",
    "(1, 12, 'Anna','Iversen','19:00:00',1),\n",
    "(2, 12, 'Joakim', 'Iversen', '19:00:00', 1),\n",
    "(3, 19, 'Vanessa', 'McCarthy', '15:00:00', 3),\n",
    "(4, 15, 'Marcos', 'Romero', '17:30:00', 4),\n",
    "(5, 5, 'Hiroki', 'Yamane', '18:30:00', 2),\n",
    "(6, 8, 'Diana', 'Pinto', '20:00:00', 5);\"\"\"\n",
    "\n",
    "#*******************************************************#\n",
    "# Insert query to populate \"Orders\" table:\n",
    "#*******************************************************#\n",
    "insert_orders=\"\"\"\n",
    "INSERT INTO Orders (OrderID, TableNo, MenuID, BookingID, Quantity, BillAmount)\n",
    "VALUES\n",
    "(1, 12, 1, 1, 2, 86),\n",
    "(2, 19, 2, 2, 1, 37),\n",
    "(3, 15, 2, 3, 1, 37),\n",
    "(4, 5, 3, 4, 1, 40),\n",
    "(5, 8, 1, 5, 1, 43);\"\"\"\n",
    "\n",
    "#*******************************************************#\n",
    "# Insert query to populate \"Employees\" table:\n",
    "#*******************************************************#\n",
    "insert_employees = \"\"\"\n",
    "INSERT INTO Employees (EmployeeID, Name, Role, Address, Contact_Number, Email, Annual_Salary) VALUES\n",
    "(01,'Mario Gollini','Manager','724, Parsley Lane, Old Town, Chicago, IL',351258074,'Mario.g@littlelemon.com','$70,000'),\n",
    "(02,'Adrian Gollini','Assistant Manager','334, Dill Square, Lincoln Park, Chicago, IL',351474048,'Adrian.g@littlelemon.com','$65,000'),\n",
    "(03,'Giorgos Dioudis','Head Chef','879 Sage Street, West Loop, Chicago, IL',351970582,'Giorgos.d@littlelemon.com','$50,000'),\n",
    "(04,'Fatma Kaya','Assistant Chef','132  Bay Lane, Chicago, IL',351963569,'Fatma.k@littlelemon.com','$45,000'),\n",
    "(05,'Elena Salvai','Head Waiter','989 Thyme Square, EdgeWater, Chicago, IL',351074198,'Elena.s@littlelemon.com','$40,000'),\n",
    "(06,'John Millar','Receptionist','245 Dill Square, Lincoln Park, Chicago, IL',351584508,'John.m@littlelemon.com','$35,000');\"\"\""
   ]
  },
  {
   "cell_type": "code",
   "execution_count": 39,
   "id": "45da5a5b-d5f3-4012-85d8-aa1448a0eda1",
   "metadata": {},
   "outputs": [],
   "source": [
    "# Populate MenuItems table\n",
    "cursor.execute(insert_menuitems)\n",
    "connection.commit()\n",
    "\n",
    "# # Populate MenuItems table\n",
    "cursor.execute(insert_menu)\n",
    "connection.commit()\n",
    "\n",
    "# # Populate Bookings table\n",
    "cursor.execute(insert_bookings)\n",
    "connection.commit()\n",
    "\n",
    "# # Populate Orders table\n",
    "cursor.execute(insert_orders)\n",
    "connection.commit()\n",
    "\n",
    "# Populate Employees table\n",
    "cursor.execute(insert_employees)\n",
    "connection.commit()"
   ]
  },
  {
   "cell_type": "code",
   "execution_count": 7,
   "id": "763cf87c-8508-46f8-9bf0-4a63a371d1ee",
   "metadata": {},
   "outputs": [],
   "source": [
    "from mysql.connector import pooling, Error"
   ]
  },
  {
   "cell_type": "code",
   "execution_count": 8,
   "id": "74da601c-2656-4ebf-b9ac-e4caee162189",
   "metadata": {},
   "outputs": [
    {
     "name": "stdout",
     "output_type": "stream",
     "text": [
      "The connectin pool is created with name: pool_a\n",
      "The pool size is: 2\n"
     ]
    }
   ],
   "source": [
    "dbconfig={\"database\":\"little_lemon_db\", \"user\":\"root\", \"password\":\"\"}\n",
    "try:\n",
    "    pool = pooling.MySQLConnectionPool(pool_name=\"pool_a\",\n",
    "                                                  pool_size=2,\n",
    "                                                  host='localhost',\n",
    "                                                  **dbconfig)\n",
    "    print(\"The connectin pool is created with name:\", pool.pool_name)\n",
    "    print(\"The pool size is:\", pool.pool_size)\n",
    "except Error as err:\n",
    "    print(\"Error code:\", err.errno)\n",
    "    print(\"Error message:\", err.msg)"
   ]
  },
  {
   "cell_type": "code",
   "execution_count": 3,
   "id": "5dd3b3a1-bfee-4fc9-9b98-8d732a779b4a",
   "metadata": {},
   "outputs": [],
   "source": [
    "conn = pool.get_connection()\n",
    "if conn.is_connected:\n",
    "    cursor = conn.cursor()"
   ]
  },
  {
   "cell_type": "code",
   "execution_count": 16,
   "id": "8d4905fc-39e0-4ad0-9c19-0ec3a1cfbdb4",
   "metadata": {},
   "outputs": [],
   "source": [
    "create_peakhours_proc = \"\"\"\n",
    "CREATE PROCEDURE PeakHours()\n",
    "BEGIN\n",
    "    SELECT HOUR(BookingSlot) AS booking_hour, COUNT(BookingID) AS number_of_bookings\n",
    "    FROM Bookings\n",
    "    GROUP BY booking_hour\n",
    "    ORDER BY number_of_bookings DESC;\n",
    "END\n",
    "\"\"\""
   ]
  },
  {
   "cell_type": "code",
   "execution_count": 17,
   "id": "7eee0412-b6ca-464b-8b0e-5b5c760a9f10",
   "metadata": {},
   "outputs": [],
   "source": [
    "cursor.execute(create_peakhours_proc)"
   ]
  },
  {
   "cell_type": "code",
   "execution_count": 18,
   "id": "83450c0b-e546-435b-8326-654f5bf7f3f2",
   "metadata": {},
   "outputs": [
    {
     "data": {
      "text/plain": [
       "()"
      ]
     },
     "execution_count": 18,
     "metadata": {},
     "output_type": "execute_result"
    }
   ],
   "source": [
    "cursor.callproc('PeakHours')"
   ]
  },
  {
   "cell_type": "code",
   "execution_count": 19,
   "id": "4bd3017f-627b-4cb4-9862-d6a12dd68524",
   "metadata": {},
   "outputs": [],
   "source": [
    "results = next(cursor.stored_results())"
   ]
  },
  {
   "cell_type": "code",
   "execution_count": 20,
   "id": "a4f8159f-5029-416a-86f1-d6bdd44663e4",
   "metadata": {},
   "outputs": [],
   "source": [
    "dataset = results.fetchall()"
   ]
  },
  {
   "cell_type": "code",
   "execution_count": 21,
   "id": "9b2f7f22-aa58-415e-a765-3306add9173f",
   "metadata": {},
   "outputs": [],
   "source": [
    "for column_id in cursor.stored_results():\n",
    "    cols = [column[0] for column in column_id.description]"
   ]
  },
  {
   "cell_type": "code",
   "execution_count": 22,
   "id": "c6030065-d5a6-447c-8161-3cfb613c22bb",
   "metadata": {},
   "outputs": [
    {
     "name": "stdout",
     "output_type": "stream",
     "text": [
      "['booking_hour', 'number_of_bookings']\n",
      "(19, 2)\n",
      "(15, 1)\n",
      "(17, 1)\n",
      "(18, 1)\n",
      "(20, 1)\n"
     ]
    }
   ],
   "source": [
    "print(cols)\n",
    "for data in dataset:\n",
    "        print(data)"
   ]
  },
  {
   "cell_type": "code",
   "execution_count": 37,
   "id": "f7c381c4-309d-48ed-bc21-e941e585a366",
   "metadata": {},
   "outputs": [],
   "source": [
    "create_gueststatus_proc = \"\"\"CREATE PROCEDURE GuestStatus()\n",
    "BEGIN\n",
    "    SELECT CONCAT(GuestFirstName,' ',GuestLastName) AS GuestFullName,\n",
    "    CASE\n",
    "    WHEN Role in ('Manager','Assistant Manager') THEN 'Ready to pay'\n",
    "    WHEN Role in ('Head Chef') THEN 'Ready to serve'\n",
    "    WHEN Role in ('Assistant Chef') THEN 'Preparing Order'\n",
    "    WHEN Role in ('Head Waiter') THEN 'Order served'\n",
    "    END AS Status\n",
    "    FROM Bookings\n",
    "    LEFT JOIN Employees\n",
    "    ON Bookings.EmployeeID=Employees.EmployeeID;\n",
    "END\n",
    "\"\"\""
   ]
  },
  {
   "cell_type": "code",
   "execution_count": 38,
   "id": "26c6595e-2adc-450f-a2dc-905e2e2fdf8b",
   "metadata": {},
   "outputs": [],
   "source": [
    "cursor.execute(create_gueststatus_proc)"
   ]
  },
  {
   "cell_type": "code",
   "execution_count": 39,
   "id": "d0b2a1b7-a8fd-450f-95e8-3708f82fdfc0",
   "metadata": {},
   "outputs": [
    {
     "data": {
      "text/plain": [
       "()"
      ]
     },
     "execution_count": 39,
     "metadata": {},
     "output_type": "execute_result"
    }
   ],
   "source": [
    "cursor.callproc('GuestStatus')"
   ]
  },
  {
   "cell_type": "code",
   "execution_count": 40,
   "id": "8b27f22b-3da7-4855-85bb-bb5316e5fb91",
   "metadata": {},
   "outputs": [],
   "source": [
    "results = next(cursor.stored_results())"
   ]
  },
  {
   "cell_type": "code",
   "execution_count": 41,
   "id": "704182d8-d9f7-42ac-b33b-ddc149ee74f3",
   "metadata": {},
   "outputs": [],
   "source": [
    "dataset = results.fetchall()"
   ]
  },
  {
   "cell_type": "code",
   "execution_count": 42,
   "id": "269ad58b-17c8-4948-93d5-820df6f39b9c",
   "metadata": {},
   "outputs": [],
   "source": [
    "for column_id in cursor.stored_results():\n",
    "    cols = [column[0] for column in column_id.description]"
   ]
  },
  {
   "cell_type": "code",
   "execution_count": 43,
   "id": "232abe81-ba3b-4445-a213-6a592a3920fc",
   "metadata": {},
   "outputs": [
    {
     "name": "stdout",
     "output_type": "stream",
     "text": [
      "['GuestFullName', 'Status']\n",
      "('Anna Iversen', 'Ready to pay')\n",
      "('Joakim Iversen', 'Ready to pay')\n",
      "('Vanessa McCarthy', 'Ready to serve')\n",
      "('Marcos Romero', 'Preparing Order')\n",
      "('Hiroki Yamane', 'Ready to pay')\n",
      "('Diana Pinto', 'Order served')\n"
     ]
    }
   ],
   "source": [
    "print(cols)\n",
    "for data in dataset:\n",
    "        print(data)"
   ]
  },
  {
   "cell_type": "code",
   "execution_count": 44,
   "id": "bc860d31-8af9-4a82-8de7-ce9bc334df75",
   "metadata": {},
   "outputs": [],
   "source": [
    "conn.close()"
   ]
  },
  {
   "cell_type": "code",
   "execution_count": 1,
   "id": "fc0e5d89-52cd-4d03-bde2-f878f3bc2d3d",
   "metadata": {},
   "outputs": [],
   "source": [
    "from mysql.connector import pooling, Error"
   ]
  },
  {
   "cell_type": "code",
   "execution_count": 2,
   "id": "f4c7dc1f-c028-4e1b-9074-c8fb26c5c043",
   "metadata": {},
   "outputs": [
    {
     "name": "stdout",
     "output_type": "stream",
     "text": [
      "The connectin pool is created with name: pool_b\n",
      "The pool size is: 2\n"
     ]
    }
   ],
   "source": [
    "dbconfig={\"database\":\"little_lemon_db\", \"user\":\"root\", \"password\":\"\"}\n",
    "try:\n",
    "    pool = pooling.MySQLConnectionPool(pool_name=\"pool_b\",\n",
    "                                                  pool_size=2,\n",
    "                                                  host='localhost',\n",
    "                                                  **dbconfig)\n",
    "    print(\"The connectin pool is created with name:\", pool.pool_name)\n",
    "    print(\"The pool size is:\", pool.pool_size)\n",
    "except Error as err:\n",
    "    print(\"Error code:\", err.errno)\n",
    "    print(\"Error message:\", err.msg)"
   ]
  },
  {
   "cell_type": "code",
   "execution_count": 3,
   "id": "9fa405a9-509e-4c63-80ee-c470c2aa4d5d",
   "metadata": {},
   "outputs": [],
   "source": [
    "data = {'Guest 1':{\n",
    "'id':7,\n",
    "'Table Number': 8,\n",
    "'First Name': 'Anees',\n",
    "'Last Name': 'Java',\n",
    "'Booking Time': '18:00:00',\n",
    "'EmployeeID': 6},\n",
    "        'Guest 2':{\n",
    "'id':8,\n",
    "'Table Number': 5,\n",
    "'First Name': 'Bald',\n",
    "'Last Name': 'Vin',\n",
    "'Booking Time': '19:00:00',\n",
    "'EmployeeID': 6},\n",
    "        'Guest 3':{\n",
    "'id':9,\n",
    "'Table Number': 12,\n",
    "'First Name': 'Jay',\n",
    "'Last Name': 'Kon',\n",
    "'Booking Time': '19:30:00' ,\n",
    "'EmployeeID': 6}}"
   ]
  },
  {
   "cell_type": "code",
   "execution_count": 4,
   "id": "175cc5a2-1a2f-405d-9578-40128e835dc9",
   "metadata": {},
   "outputs": [
    {
     "name": "stdout",
     "output_type": "stream",
     "text": [
      "Guest 3\n",
      "Failed getting connection; pool exhausted\n",
      "Error code: -1\n",
      "Error message: Failed adding connection; queue is full\n"
     ]
    }
   ],
   "source": [
    "for i, x in enumerate(data):\n",
    "    globals()[f'conn_{i}'] = None\n",
    "    try:\n",
    "        values = tuple(list(data[x].values()))\n",
    "        globals()[f'conn_{i}'] = pool.get_connection()\n",
    "        cursor = globals()[f'conn_{i}'].cursor()\n",
    "        temp_stmt = f'''INSERT INTO Bookings \n",
    "        VALUES {values}'''\n",
    "        cursor.execute(temp_stmt)\n",
    "        globals()[f'conn_{i}'].commit()\n",
    "    except Error as err:\n",
    "        print(x)\n",
    "        print(err.msg)\n",
    "        pool.add_connection()\n",
    "        globals()[f'conn_{i}'] = pool.get_connection()\n",
    "        cursor = globals()[f'conn_{i}'].cursor()\n",
    "        temp_stmt = f'''INSERT INTO Bookings \n",
    "        VALUES {values}'''\n",
    "        cursor.execute(temp_stmt)\n",
    "        globals()[f'conn_{i}'].commit()\n",
    "try:\n",
    "    conn_0.close()\n",
    "    conn_1.close()\n",
    "    conn_2.close()\n",
    "except Error as err:\n",
    "    print(\"Error code:\", err.errno)\n",
    "    print(\"Error message:\", err.msg)"
   ]
  },
  {
   "cell_type": "code",
   "execution_count": 42,
   "id": "a68b64e2-99a0-490c-8b0f-c13ce6d43975",
   "metadata": {},
   "outputs": [],
   "source": [
    "report_stmt_1 = '''\n",
    "Select Name, EmployeeID FROM Employees\n",
    "Where Role = 'Manager';\n",
    "'''"
   ]
  },
  {
   "cell_type": "code",
   "execution_count": 40,
   "id": "dfd514e9-4a68-4564-a1ef-038e540004dd",
   "metadata": {},
   "outputs": [],
   "source": [
    "report_stmt_2 = '''\n",
    "Select Name, Role FROM Employees\n",
    "where Annual_Salary =( select MAX(Annual_Salary) FROM Employees);\n",
    "'''"
   ]
  },
  {
   "cell_type": "code",
   "execution_count": 48,
   "id": "590ae4bf-a72b-4e09-a9df-7e78fbedd080",
   "metadata": {},
   "outputs": [],
   "source": [
    "report_stmt_3 = '''\n",
    "Select COUNT(BookingID) AS number_of_guests FROM Bookings\n",
    "Where BookingSlot BETWEEN '18:00:00' AND '20:00:00';\n",
    "'''"
   ]
  },
  {
   "cell_type": "code",
   "execution_count": 50,
   "id": "a5f4148e-e226-496b-935b-0b3e10f2c317",
   "metadata": {},
   "outputs": [],
   "source": [
    "report_stmt_4 = '''\n",
    "SELECT CONCAT(GuestFirstName,' ',GuestLastName) AS GuestFullName, BookingID\n",
    "FROM Bookings\n",
    "Where EmployeeID != 6\n",
    "ORDER BY BookingSlot;\n",
    "'''"
   ]
  },
  {
   "cell_type": "code",
   "execution_count": null,
   "id": "d4d1f76c-7059-43ea-851e-4042351ef699",
   "metadata": {},
   "outputs": [],
   "source": [
    "create_basicsalesreport_proc = \"\"\"\n",
    "CREATE PROCEDURE BasicSalesReport()\n",
    "BEGIN\n",
    "SELECT SUM(BillAmount) AS Total_sales, AVG(BillAmount) AS Average_sale, MIN(BillAmount) AS Minimum_bill_paid,\n",
    "MAX(BillAmount) as Maximum_bill_paid\n",
    "FROM Orders;\n",
    "END\n",
    "\"\"\""
   ]
  },
  {
   "cell_type": "code",
   "execution_count": null,
   "id": "81ab2092-73e0-4683-a8ff-e4788b36b7df",
   "metadata": {},
   "outputs": [],
   "source": [
    "cursor.execute(create_gueststatus_proc)"
   ]
  },
  {
   "cell_type": "code",
   "execution_count": 65,
   "id": "e2b89a40-7c59-40fb-b160-78d2badb90e1",
   "metadata": {},
   "outputs": [],
   "source": [
    "conn_4 = pool.get_connection()\n",
    "cursor = conn_4.cursor(buffered=True)"
   ]
  },
  {
   "cell_type": "code",
   "execution_count": 66,
   "id": "1208b284-c6e0-4ef0-bf71-545d1f88f0dc",
   "metadata": {},
   "outputs": [],
   "source": [
    "next_three_upcoming_bookings_stmt = '''\n",
    "SELECT BookingSlot,\n",
    "CONCAT('Guest_name: ', GuestFirstName,' ',GuestLastName) AS GuestFullName,\n",
    "CONCAT('Assigned to: ', Name , ' ', '[', Role ,']') AS BookingAssignment\n",
    "FROM Bookings \n",
    "INNER JOIN Employees\n",
    "ON Bookings.EmployeeID=Employees.EmployeeID\n",
    "ORDER BY BookingSlot;\n",
    "'''"
   ]
  },
  {
   "cell_type": "code",
   "execution_count": 67,
   "id": "ee4084b6-053d-4e08-91b5-565abc0a1b70",
   "metadata": {},
   "outputs": [],
   "source": [
    "cursor.execute(next_three_upcoming_bookings_stmt)\n",
    "dataset = cursor.fetchmany(3)"
   ]
  },
  {
   "cell_type": "code",
   "execution_count": 71,
   "id": "bc5915d7-e30c-414f-be69-e88c54778178",
   "metadata": {},
   "outputs": [
    {
     "name": "stdout",
     "output_type": "stream",
     "text": [
      "BookingSlot 15:00:00\n",
      "        Guest_name: Vanessa McCarthy\n",
      "        Assigned to: Giorgos Dioudis [Head Chef]\n",
      "\n",
      "BookingSlot 17:30:00\n",
      "        Guest_name: Marcos Romero\n",
      "        Assigned to: Fatma Kaya [Assistant Chef]\n",
      "\n",
      "BookingSlot 18:00:00\n",
      "        Guest_name: Anees Java\n",
      "        Assigned to: John Millar [Receptionist]\n",
      "\n"
     ]
    }
   ],
   "source": [
    "for data in dataset:\n",
    "    delta = data[0]\n",
    "    totalMinute, second = divmod(delta.seconds, 60)\n",
    "    hour, minute = divmod(totalMinute, 60)\n",
    "    print(f\"BookingSlot {hour}:{minute:02}:{second:02}\")\n",
    "    print(' '*7,data[1])\n",
    "    print(' '*7,data[2])\n",
    "    print()"
   ]
  },
  {
   "cell_type": "code",
   "execution_count": 64,
   "id": "f847fdf4-7ef1-468b-b894-56e419e3cdfb",
   "metadata": {},
   "outputs": [],
   "source": [
    "conn_4.close()"
   ]
  }
 ],
 "metadata": {
  "kernelspec": {
   "display_name": "Python 3 (ipykernel)",
   "language": "python",
   "name": "python3"
  },
  "language_info": {
   "codemirror_mode": {
    "name": "ipython",
    "version": 3
   },
   "file_extension": ".py",
   "mimetype": "text/x-python",
   "name": "python",
   "nbconvert_exporter": "python",
   "pygments_lexer": "ipython3",
   "version": "3.9.15"
  }
 },
 "nbformat": 4,
 "nbformat_minor": 5
}
